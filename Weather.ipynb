{
  "nbformat": 4,
  "nbformat_minor": 0,
  "metadata": {
    "colab": {
      "provenance": [],
      "toc_visible": true
    },
    "kernelspec": {
      "name": "python3",
      "display_name": "Python 3"
    },
    "language_info": {
      "name": "python"
    }
  },
  "cells": [
    {
      "cell_type": "code",
      "source": [
        "import requests\n",
        "import matplotlib.pyplot as plt\n",
        "\n",
        "api_key = \"0c28cf60d00b28be508c492663948973\"\n",
        "city = \"Hyderabad\"\n",
        "\n",
        "url = f\"http://api.openweathermap.org/data/2.5/forecast?q={city}&units=metric&cnt=5&appid={api_key}\"\n",
        "\n",
        "\n",
        "response = requests.get(url)\n",
        "\n",
        "\n",
        "if response.status_code == 200:\n",
        "    data = response.json()\n",
        "\n",
        "\n",
        "    times = [item['dt_txt'] for item in data['list']]\n",
        "    temperatures = [item['main']['temp'] for item in data['list']]\n",
        "\n",
        "\n",
        "    plt.figure(figsize=(10, 5))\n",
        "    plt.plot(times, temperatures, marker='s', color='blue')\n",
        "    plt.title(f\"Temperature Forecast for {city}\")\n",
        "    plt.xlabel('Time')\n",
        "    plt.ylabel('Temperature (°C)')\n",
        "    plt.xticks(rotation=45)\n",
        "    plt.grid(True)\n",
        "    plt.tight_layout()\n",
        "\n",
        "\n",
        "    plt.show()\n",
        "\n",
        "else:\n",
        "    print(f\"Error: {response.status_code}\")\n",
        ""
      ],
      "metadata": {
        "id": "8Fo0P8O3-gaf"
      },
      "execution_count": null,
      "outputs": []
    }
  ]
}