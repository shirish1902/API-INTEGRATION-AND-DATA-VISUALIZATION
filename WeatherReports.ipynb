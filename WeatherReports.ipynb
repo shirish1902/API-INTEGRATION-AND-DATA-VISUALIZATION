{
  "nbformat": 4,
  "nbformat_minor": 0,
  "metadata": {
    "colab": {
      "provenance": []
    },
    "kernelspec": {
      "name": "python3",
      "display_name": "Python 3"
    },
    "language_info": {
      "name": "python"
    }
  },
  "cells": [
    {
      "cell_type": "code",
      "source": [
        "import requests\n",
        "import matplotlib.pyplot as plt\n",
        "from datetime import datetime, timedelta\n",
        "\n",
        "# OpenWeatherMap API configuration\n",
        "API_KEY = \"019bd3a6c8375fedb6dc682d1bdf77dd\"  # Replace with your actual API key\n",
        "CITY = \"London\"\n",
        "BASE_URL = \"http://api.openweathermap.org/data/2.5/forecast\"\n",
        "\n",
        "# Fetch weather data\n",
        "params = {\n",
        "    \"q\": CITY,\n",
        "    \"appid\": API_KEY,\n",
        "    \"units\": \"metric\"  # Use metric units for temperature\n",
        "}\n",
        "\n",
        "response = requests.get(BASE_URL, params=params)\n",
        "data = response.json()\n",
        "\n",
        "# Check for API errors and print the entire response for debugging\n",
        "if data.get('cod') != '200':  # '200' indicates a successful request\n",
        "    print(f\"Error: {data.get('cod')} - {data.get('message')}\")\n",
        "    print(f\"Full API response: {data}\")  # Print the full response for debugging\n",
        "    exit()  # This example exits the script to prevent further errors\n",
        "\n",
        "# Process data\n",
        "timestamps = []\n",
        "temperatures = []\n",
        "humidity_values = []\n",
        "\n",
        "# Check if 'list' key exists in the response\n",
        "if 'list' in data:\n",
        "    for item in data['list'][:8]:  # Get data for the next 24 hours (3-hour intervals)\n",
        "        timestamp = datetime.fromtimestamp(item['dt'])\n",
        "        timestamps.append(timestamp)\n",
        "        temperatures.append(item['main']['temp'])\n",
        "        humidity_values.append(item['main']['humidity'])\n",
        "else:\n",
        "    print(\"Error: 'list' key not found in API response. Check the API documentation and your request parameters.\")\n",
        "    exit()\n",
        "\n",
        "plt.figure(figsize=(12, 6))\n",
        "\n",
        "# Temperature plot\n",
        "plt.subplot(2, 1, 1)\n",
        "plt.plot(timestamps, temperatures, marker='o', linestyle='-', color='red')\n",
        "plt.title(f\"Temperature Forecast for {CITY}\")\n",
        "plt.ylabel(\"Temperature (°C)\")\n",
        "plt.xticks(rotation=45)\n",
        "\n",
        "# Humidity plot\n",
        "plt.subplot(2, 1, 2)\n",
        "plt.bar(timestamps, humidity_values, color='blue', alpha=0.7)\n",
        "plt.title(f\"Humidity Forecast for {CITY}\")\n",
        "plt.ylabel(\"Humidity (%)\")\n",
        "plt.xticks(rotation=45)\n",
        "\n",
        "plt.tight_layout()\n",
        "plt.savefig(\"weather_dashboard.png\")\n",
        "plt.close()\n",
        "\n",
        "print(f\"Weather dashboard for {CITY} has been saved as 'weather_dashboard.png'\")"
      ],
      "metadata": {
        "colab": {
          "base_uri": "https://localhost:8080/"
        },
        "id": "KEih9UZ8sD8k",
        "outputId": "9b76c79d-e5da-42cd-a8fb-48b6b2b07d29"
      },
      "execution_count": 4,
      "outputs": [
        {
          "output_type": "stream",
          "name": "stdout",
          "text": [
            "Weather dashboard for London has been saved as 'weather_dashboard.png'\n"
          ]
        }
      ]
    }
  ]
}